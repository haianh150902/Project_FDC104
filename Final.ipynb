{
 "cells": [
  {
   "cell_type": "markdown",
   "metadata": {},
   "source": [
    "In this Final FDC105 Project, we will try to identify incredible customers based on their financial transactions and\n",
    "debt classification group. As part of the requirements, students have to decide “Which\n",
    "group of debts are incredible” by themselves, as long as it helps to distinguish between\n",
    "credible and incredible customers."
   ]
  },
  {
   "cell_type": "markdown",
   "metadata": {},
   "source": []
  },
  {
   "cell_type": "code",
   "execution_count": 1,
   "id": "e1e6e0d1",
   "metadata": {},
   "outputs": [],
   "source": [
    "import numpy as np\n",
    "np.seterr(divide='ignore')\n",
    "import math\n",
    "import pandas as pd\n",
    "from sklearn.linear_model import LogisticRegression\n",
    "from sklearn.model_selection import train_test_split\n",
    "from sklearn.preprocessing import OneHotEncoder\n",
    "from sklearn import metrics\n",
    "from sklearn.preprocessing import StandardScaler\n",
    "import matplotlib.pyplot as plt\n",
    "import seaborn as sns"
   ]
  },
  {
   "cell_type": "code",
   "execution_count": 2,
   "id": "31425947",
   "metadata": {},
   "outputs": [],
   "source": [
    "data = pd.read_csv('dataset.csv')"
   ]
  },
  {
   "cell_type": "code",
   "execution_count": 3,
   "id": "aeec95a9",
   "metadata": {},
   "outputs": [],
   "source": [
    "data_clean = data[['local_ref_1', 'vn_marital_status', 'resid_province', 'birth_incorp_date' , 'nhomno_xhtdJuin2021', 'balanceJuin2021', 'loaikyhanJuin2021','totalSavings2021_heoSo']]"
   ]
  },
  {
   "cell_type": "code",
   "execution_count": 4,
   "id": "c15a68dd",
   "metadata": {
    "scrolled": true
   },
   "outputs": [
    {
     "name": "stdout",
     "output_type": "stream",
     "text": [
      "(100000, 8)\n"
     ]
    },
    {
     "data": {
      "text/html": [
       "<div>\n",
       "<style scoped>\n",
       "    .dataframe tbody tr th:only-of-type {\n",
       "        vertical-align: middle;\n",
       "    }\n",
       "\n",
       "    .dataframe tbody tr th {\n",
       "        vertical-align: top;\n",
       "    }\n",
       "\n",
       "    .dataframe thead th {\n",
       "        text-align: right;\n",
       "    }\n",
       "</style>\n",
       "<table border=\"1\" class=\"dataframe\">\n",
       "  <thead>\n",
       "    <tr style=\"text-align: right;\">\n",
       "      <th></th>\n",
       "      <th>local_ref_1</th>\n",
       "      <th>vn_marital_status</th>\n",
       "      <th>resid_province</th>\n",
       "      <th>birth_incorp_date</th>\n",
       "      <th>nhomno_xhtdJuin2021</th>\n",
       "      <th>balanceJuin2021</th>\n",
       "      <th>loaikyhanJuin2021</th>\n",
       "      <th>totalSavings2021_heoSo</th>\n",
       "    </tr>\n",
       "  </thead>\n",
       "  <tbody>\n",
       "    <tr>\n",
       "      <th>0</th>\n",
       "      <td>MALE</td>\n",
       "      <td>Married</td>\n",
       "      <td>27.0</td>\n",
       "      <td>1992.0</td>\n",
       "      <td>NaN</td>\n",
       "      <td>NaN</td>\n",
       "      <td>NaN</td>\n",
       "      <td>NaN</td>\n",
       "    </tr>\n",
       "    <tr>\n",
       "      <th>1</th>\n",
       "      <td>MALE</td>\n",
       "      <td>Single</td>\n",
       "      <td>79.0</td>\n",
       "      <td>1986.0</td>\n",
       "      <td>1.0</td>\n",
       "      <td>0.003666</td>\n",
       "      <td>DH</td>\n",
       "      <td>NaN</td>\n",
       "    </tr>\n",
       "    <tr>\n",
       "      <th>2</th>\n",
       "      <td>MALE</td>\n",
       "      <td>Married</td>\n",
       "      <td>1.0</td>\n",
       "      <td>1980.0</td>\n",
       "      <td>NaN</td>\n",
       "      <td>NaN</td>\n",
       "      <td>NaN</td>\n",
       "      <td>NaN</td>\n",
       "    </tr>\n",
       "    <tr>\n",
       "      <th>3</th>\n",
       "      <td>MALE</td>\n",
       "      <td>Single</td>\n",
       "      <td>40.0</td>\n",
       "      <td>2001.0</td>\n",
       "      <td>NaN</td>\n",
       "      <td>NaN</td>\n",
       "      <td>NaN</td>\n",
       "      <td>NaN</td>\n",
       "    </tr>\n",
       "    <tr>\n",
       "      <th>4</th>\n",
       "      <td>MALE</td>\n",
       "      <td>Married</td>\n",
       "      <td>49.0</td>\n",
       "      <td>1989.0</td>\n",
       "      <td>NaN</td>\n",
       "      <td>NaN</td>\n",
       "      <td>NaN</td>\n",
       "      <td>NaN</td>\n",
       "    </tr>\n",
       "    <tr>\n",
       "      <th>5</th>\n",
       "      <td>MALE</td>\n",
       "      <td>Single</td>\n",
       "      <td>37.0</td>\n",
       "      <td>1993.0</td>\n",
       "      <td>NaN</td>\n",
       "      <td>NaN</td>\n",
       "      <td>NaN</td>\n",
       "      <td>NaN</td>\n",
       "    </tr>\n",
       "    <tr>\n",
       "      <th>6</th>\n",
       "      <td>MALE</td>\n",
       "      <td>Single</td>\n",
       "      <td>1.0</td>\n",
       "      <td>1994.0</td>\n",
       "      <td>NaN</td>\n",
       "      <td>NaN</td>\n",
       "      <td>NaN</td>\n",
       "      <td>NaN</td>\n",
       "    </tr>\n",
       "    <tr>\n",
       "      <th>7</th>\n",
       "      <td>MALE</td>\n",
       "      <td>Married</td>\n",
       "      <td>38.0</td>\n",
       "      <td>1992.0</td>\n",
       "      <td>1.0</td>\n",
       "      <td>0.000139</td>\n",
       "      <td>NH</td>\n",
       "      <td>NaN</td>\n",
       "    </tr>\n",
       "    <tr>\n",
       "      <th>8</th>\n",
       "      <td>MALE</td>\n",
       "      <td>Married</td>\n",
       "      <td>40.0</td>\n",
       "      <td>1989.0</td>\n",
       "      <td>NaN</td>\n",
       "      <td>NaN</td>\n",
       "      <td>NaN</td>\n",
       "      <td>NaN</td>\n",
       "    </tr>\n",
       "    <tr>\n",
       "      <th>9</th>\n",
       "      <td>FEMALE</td>\n",
       "      <td>Single</td>\n",
       "      <td>1.0</td>\n",
       "      <td>2000.0</td>\n",
       "      <td>NaN</td>\n",
       "      <td>NaN</td>\n",
       "      <td>NaN</td>\n",
       "      <td>NaN</td>\n",
       "    </tr>\n",
       "  </tbody>\n",
       "</table>\n",
       "</div>"
      ],
      "text/plain": [
       "  local_ref_1 vn_marital_status  resid_province  birth_incorp_date  \\\n",
       "0        MALE           Married            27.0             1992.0   \n",
       "1        MALE            Single            79.0             1986.0   \n",
       "2        MALE           Married             1.0             1980.0   \n",
       "3        MALE            Single            40.0             2001.0   \n",
       "4        MALE           Married            49.0             1989.0   \n",
       "5        MALE            Single            37.0             1993.0   \n",
       "6        MALE            Single             1.0             1994.0   \n",
       "7        MALE           Married            38.0             1992.0   \n",
       "8        MALE           Married            40.0             1989.0   \n",
       "9      FEMALE            Single             1.0             2000.0   \n",
       "\n",
       "   nhomno_xhtdJuin2021  balanceJuin2021 loaikyhanJuin2021  \\\n",
       "0                  NaN              NaN               NaN   \n",
       "1                  1.0         0.003666                DH   \n",
       "2                  NaN              NaN               NaN   \n",
       "3                  NaN              NaN               NaN   \n",
       "4                  NaN              NaN               NaN   \n",
       "5                  NaN              NaN               NaN   \n",
       "6                  NaN              NaN               NaN   \n",
       "7                  1.0         0.000139                NH   \n",
       "8                  NaN              NaN               NaN   \n",
       "9                  NaN              NaN               NaN   \n",
       "\n",
       "   totalSavings2021_heoSo  \n",
       "0                     NaN  \n",
       "1                     NaN  \n",
       "2                     NaN  \n",
       "3                     NaN  \n",
       "4                     NaN  \n",
       "5                     NaN  \n",
       "6                     NaN  \n",
       "7                     NaN  \n",
       "8                     NaN  \n",
       "9                     NaN  "
      ]
     },
     "execution_count": 4,
     "metadata": {},
     "output_type": "execute_result"
    }
   ],
   "source": [
    "print(data_clean.shape)\n",
    "data_clean.head(10)"
   ]
  },
  {
   "cell_type": "code",
   "execution_count": 5,
   "metadata": {},
   "outputs": [
    {
     "data": {
      "text/html": [
       "<div>\n",
       "<style scoped>\n",
       "    .dataframe tbody tr th:only-of-type {\n",
       "        vertical-align: middle;\n",
       "    }\n",
       "\n",
       "    .dataframe tbody tr th {\n",
       "        vertical-align: top;\n",
       "    }\n",
       "\n",
       "    .dataframe thead th {\n",
       "        text-align: right;\n",
       "    }\n",
       "</style>\n",
       "<table border=\"1\" class=\"dataframe\">\n",
       "  <thead>\n",
       "    <tr style=\"text-align: right;\">\n",
       "      <th></th>\n",
       "      <th>resid_province</th>\n",
       "      <th>birth_incorp_date</th>\n",
       "      <th>nhomno_xhtdJuin2021</th>\n",
       "      <th>balanceJuin2021</th>\n",
       "      <th>totalSavings2021_heoSo</th>\n",
       "    </tr>\n",
       "  </thead>\n",
       "  <tbody>\n",
       "    <tr>\n",
       "      <th>count</th>\n",
       "      <td>93431.000000</td>\n",
       "      <td>99990.000000</td>\n",
       "      <td>29956.000000</td>\n",
       "      <td>29956.000000</td>\n",
       "      <td>7592.000000</td>\n",
       "    </tr>\n",
       "    <tr>\n",
       "      <th>mean</th>\n",
       "      <td>32.143379</td>\n",
       "      <td>1988.480668</td>\n",
       "      <td>1.780111</td>\n",
       "      <td>0.003399</td>\n",
       "      <td>0.016666</td>\n",
       "    </tr>\n",
       "    <tr>\n",
       "      <th>std</th>\n",
       "      <td>29.360372</td>\n",
       "      <td>9.474698</td>\n",
       "      <td>1.033548</td>\n",
       "      <td>0.016369</td>\n",
       "      <td>0.021570</td>\n",
       "    </tr>\n",
       "    <tr>\n",
       "      <th>min</th>\n",
       "      <td>0.000000</td>\n",
       "      <td>1073.000000</td>\n",
       "      <td>1.000000</td>\n",
       "      <td>0.000000</td>\n",
       "      <td>0.010638</td>\n",
       "    </tr>\n",
       "    <tr>\n",
       "      <th>25%</th>\n",
       "      <td>1.000000</td>\n",
       "      <td>1983.000000</td>\n",
       "      <td>1.000000</td>\n",
       "      <td>0.000000</td>\n",
       "      <td>0.010638</td>\n",
       "    </tr>\n",
       "    <tr>\n",
       "      <th>50%</th>\n",
       "      <td>30.000000</td>\n",
       "      <td>1990.000000</td>\n",
       "      <td>1.000000</td>\n",
       "      <td>0.000029</td>\n",
       "      <td>0.010638</td>\n",
       "    </tr>\n",
       "    <tr>\n",
       "      <th>75%</th>\n",
       "      <td>51.000000</td>\n",
       "      <td>1995.000000</td>\n",
       "      <td>2.000000</td>\n",
       "      <td>0.001500</td>\n",
       "      <td>0.010638</td>\n",
       "    </tr>\n",
       "    <tr>\n",
       "      <th>max</th>\n",
       "      <td>96.000000</td>\n",
       "      <td>2020.000000</td>\n",
       "      <td>5.000000</td>\n",
       "      <td>1.000000</td>\n",
       "      <td>1.000000</td>\n",
       "    </tr>\n",
       "  </tbody>\n",
       "</table>\n",
       "</div>"
      ],
      "text/plain": [
       "       resid_province  birth_incorp_date  nhomno_xhtdJuin2021  \\\n",
       "count    93431.000000       99990.000000         29956.000000   \n",
       "mean        32.143379        1988.480668             1.780111   \n",
       "std         29.360372           9.474698             1.033548   \n",
       "min          0.000000        1073.000000             1.000000   \n",
       "25%          1.000000        1983.000000             1.000000   \n",
       "50%         30.000000        1990.000000             1.000000   \n",
       "75%         51.000000        1995.000000             2.000000   \n",
       "max         96.000000        2020.000000             5.000000   \n",
       "\n",
       "       balanceJuin2021  totalSavings2021_heoSo  \n",
       "count     29956.000000             7592.000000  \n",
       "mean          0.003399                0.016666  \n",
       "std           0.016369                0.021570  \n",
       "min           0.000000                0.010638  \n",
       "25%           0.000000                0.010638  \n",
       "50%           0.000029                0.010638  \n",
       "75%           0.001500                0.010638  \n",
       "max           1.000000                1.000000  "
      ]
     },
     "execution_count": 5,
     "metadata": {},
     "output_type": "execute_result"
    }
   ],
   "source": [
    "data_clean.describe()"
   ]
  },
  {
   "cell_type": "code",
   "execution_count": 6,
   "id": "35023fc2",
   "metadata": {},
   "outputs": [
    {
     "data": {
      "text/plain": [
       "<AxesSubplot:>"
      ]
     },
     "execution_count": 6,
     "metadata": {},
     "output_type": "execute_result"
    },
    {
     "data": {
      "image/png": "[encoded data removed]",
      "text/plain": [
       "<Figure size 432x288 with 2 Axes>"
      ]
     },
     "metadata": {
      "needs_background": "light"
     },
     "output_type": "display_data"
    }
   ],
   "source": [
    "sns.heatmap(data[['nhomno_xhtdJuin2021', 'balanceJuin2021', 'loaikyhanJuin2021', 'sub_productJuin2021','totalSavings2021_heoSo']].corr())"
   ]
  },
  {
   "cell_type": "code",
   "execution_count": 7,
   "id": "ca3a5a09",
   "metadata": {},
   "outputs": [],
   "source": [
    "# Replace the categorical values with the numeric equivalents that we have above\n",
    "categoricalFeatures = ['local_ref_1', 'vn_marital_status', 'resid_province', 'birth_incorp_date', 'nhomno_xhtdJuin2021', 'balanceJuin2021', 'loaikyhanJuin2021']\n",
    "\n",
    "# Iterate through the list of categorical features and one hot encode them.\n",
    "for feature in categoricalFeatures:\n",
    "    onehot = pd.get_dummies(data[feature], prefix=feature)\n",
    "    data_clean = data_clean.drop(feature, axis=1)\n",
    "    data_clean = data_clean.join(onehot)"
   ]
  },
  {
   "cell_type": "code",
   "execution_count": 8,
   "id": "caae7004",
   "metadata": {},
   "outputs": [],
   "source": [
    "# Liblinear is a solver that is effective for datasets.\n",
    "lr = LogisticRegression(solver='liblinear', class_weight='balanced')"
   ]
  },
  {
   "cell_type": "code",
   "execution_count": null,
   "id": "1c7312be",
   "metadata": {},
   "outputs": [],
   "source": [
    "scaler = StandardScaler()\n",
    "data_std = scaler.fit_transform(data_clean)\n",
    "# We will follow an 80-20 split pattern for our training and test data\n",
    "X_train,X_test,y_train,y_test = train_test_split(data_clean, y, test_size=0.2, random_state = 0)\n"
   ]
  },
  {
   "cell_type": "code",
   "execution_count": null,
   "id": "f88465bc",
   "metadata": {},
   "outputs": [],
   "source": [
    "lr.fit(X_train, y_train)"
   ]
  },
  {
   "cell_type": "code",
   "execution_count": null,
   "id": "70538cef",
   "metadata": {},
   "outputs": [],
   "source": [
    "# We will compare this vector of predictions to the actual target vector to determine the model performance.\n",
    "y_pred = lr.predict(X_test)\n",
    "\n",
    "# Build the confusion matrix.\n",
    "confusion_matrix = metrics.confusion_matrix(y_test, y_pred)\n",
    "class_names=[0,1] # name of classes\n",
    "fig, ax = plt.subplots()\n",
    "tick_marks = np.arange(len(class_names))\n",
    "plt.xticks(tick_marks, class_names)\n",
    "plt.yticks(tick_marks, class_names)\n",
    "\n",
    "# The heatmap requires that we pass in a dataframe as the argument\n",
    "sns.heatmap(pd.DataFrame(confusion_matrix), annot=True, cmap=\"YlGnBu\", fmt=\"g\")\n",
    "\n",
    "# Configure the heatmap parameters\n",
    "ax.xaxis.set_label_position(\"top\")\n",
    "plt.tight_layout()\n",
    "plt.title('Confusion matrix', y=1.1)\n",
    "plt.ylabel('Actual label')\n",
    "plt.xlabel('Predicted label')"
   ]
  },
  {
   "cell_type": "code",
   "execution_count": null,
   "id": "f476906a",
   "metadata": {},
   "outputs": [],
   "source": [
    "# Print out our performance metrics\n",
    "print(\"Accuracy:\",metrics.accuracy_score(y_test, y_pred))\n",
    "print(\"Precision:\",metrics.precision_score(y_test, y_pred, pos_label='Y'))\n",
    "print(\"Recall:\",metrics.recall_score(y_test, y_pred, pos_label='Y'))"
   ]
  },
  {
   "cell_type": "code",
   "execution_count": null,
   "id": "f06bb384",
   "metadata": {},
   "outputs": [],
   "source": [
    "print(\"F1 Score:\",metrics.f1_score(y_test, y_pred, pos_label='Y'))"
   ]
  },
  {
   "cell_type": "code",
   "execution_count": null,
   "id": "637c2f1d",
   "metadata": {},
   "outputs": [],
   "source": []
  }
 ],
 "metadata": {
  "kernelspec": {
   "display_name": "Python 3",
   "language": "python",
   "name": "python3"
  },
  "language_info": {
   "codemirror_mode": {
    "name": "ipython",
    "version": 3
   },
   "file_extension": ".py",
   "mimetype": "text/x-python",
   "name": "python",
   "nbconvert_exporter": "python",
   "pygments_lexer": "ipython3",
   "version": "3.7.3"
  }
 },
 "nbformat": 4,
 "nbformat_minor": 5
}
